{
 "cells": [
  {
   "cell_type": "code",
   "execution_count": 70,
   "id": "96eb3dde-7584-4d7b-b801-8d20ffcaf87f",
   "metadata": {},
   "outputs": [],
   "source": [
    "#Step 1\n",
    "from pyspark.sql import SparkSession\n",
    "from pyspark.sql.functions import *"
   ]
  },
  {
   "cell_type": "code",
   "execution_count": 66,
   "id": "40ca02ce-0c9d-4723-9dfb-e559810dd85b",
   "metadata": {},
   "outputs": [],
   "source": [
    "#Step 2 and 3\n",
    "import requests\n",
    "\n",
    "spark = SparkSession.builder.appName(\"Euros\").getOrCreate()\n",
    "\n",
    "\n",
    "url = \"https://raw.githubusercontent.com/guipsamora/pandas_exercises/master/02_Filtering_%26_Sorting/Euro12/Euro_2012_stats_TEAM.csv\"\n",
    "#Download the csv\n",
    "response = requests.get(url)\n",
    "with open(\"Euro_2012_stats_TEAM.csv\", \"wb\") as file:\n",
    "    file.write(response.content)\n",
    "\n",
    "df = spark.read.csv(\"Euro_2012_stats_TEAM.csv\", header=True, inferSchema=True)\n"
   ]
  },
  {
   "cell_type": "code",
   "execution_count": 71,
   "id": "4eca90d0-b272-4978-ad52-aa898c097233",
   "metadata": {},
   "outputs": [
    {
     "name": "stdout",
     "output_type": "stream",
     "text": [
      "+-----+\n",
      "|Goals|\n",
      "+-----+\n",
      "|    4|\n",
      "|    4|\n",
      "|    4|\n",
      "|    5|\n",
      "|    3|\n",
      "|   10|\n",
      "|    5|\n",
      "|    6|\n",
      "|    2|\n",
      "|    2|\n",
      "|    6|\n",
      "|    1|\n",
      "|    5|\n",
      "|   12|\n",
      "|    5|\n",
      "|    2|\n",
      "+-----+\n",
      "\n"
     ]
    }
   ],
   "source": [
    "#Step 4\n",
    "df.select(col(\"Goals\")).show()"
   ]
  },
  {
   "cell_type": "code",
   "execution_count": 53,
   "id": "949755e8-e196-4c94-ba84-5d84b8dc0762",
   "metadata": {},
   "outputs": [
    {
     "data": {
      "text/plain": [
       "16"
      ]
     },
     "execution_count": 53,
     "metadata": {},
     "output_type": "execute_result"
    }
   ],
   "source": [
    "#Step 5\n",
    "df.count()"
   ]
  },
  {
   "cell_type": "code",
   "execution_count": 58,
   "id": "869b1738-8812-45aa-b0bb-8c75f501dfc4",
   "metadata": {},
   "outputs": [
    {
     "name": "stdout",
     "output_type": "stream",
     "text": [
      "35\n"
     ]
    }
   ],
   "source": [
    "#Step 6. What is the number of columns in the dataset?\n",
    "\n",
    "col = len(df.columns)\n",
    "print(col)"
   ]
  },
  {
   "cell_type": "code",
   "execution_count": 72,
   "id": "6f146697-1cb7-44c5-910f-8c479bf0b99a",
   "metadata": {},
   "outputs": [
    {
     "name": "stdout",
     "output_type": "stream",
     "text": [
      "+-------------------+------------+---------+\n",
      "|               Team|Yellow Cards|Red Cards|\n",
      "+-------------------+------------+---------+\n",
      "|            Croatia|           9|        0|\n",
      "|     Czech Republic|           7|        0|\n",
      "|            Denmark|           4|        0|\n",
      "|            England|           5|        0|\n",
      "|             France|           6|        0|\n",
      "|            Germany|           4|        0|\n",
      "|             Greece|           9|        1|\n",
      "|              Italy|          16|        0|\n",
      "|        Netherlands|           5|        0|\n",
      "|             Poland|           7|        1|\n",
      "|           Portugal|          12|        0|\n",
      "|Republic of Ireland|           6|        1|\n",
      "|             Russia|           6|        0|\n",
      "|              Spain|          11|        0|\n",
      "|             Sweden|           7|        0|\n",
      "|            Ukraine|           5|        0|\n",
      "+-------------------+------------+---------+\n",
      "\n"
     ]
    }
   ],
   "source": [
    "#Step 7. View only the columns Team, Yellow Cards and Red Cards and assign them to a dataframe called discipline\n",
    "discipline_df = df.select(col(\"Team\"), col(\"Yellow Cards\"), col(\"Red Cards\"))\n",
    "discipline_df.show()\n"
   ]
  },
  {
   "cell_type": "code",
   "execution_count": 76,
   "id": "1e10b9a2-3bf9-4ec9-b20b-23fd38a4ff0f",
   "metadata": {},
   "outputs": [
    {
     "name": "stdout",
     "output_type": "stream",
     "text": [
      "+-------------------+------------+---------+\n",
      "|               Team|Yellow Cards|Red Cards|\n",
      "+-------------------+------------+---------+\n",
      "|            Croatia|           9|        0|\n",
      "|     Czech Republic|           7|        0|\n",
      "|            Denmark|           4|        0|\n",
      "|            England|           5|        0|\n",
      "|             France|           6|        0|\n",
      "|            Germany|           4|        0|\n",
      "|             Greece|           9|        1|\n",
      "|              Italy|          16|        0|\n",
      "|        Netherlands|           5|        0|\n",
      "|             Poland|           7|        1|\n",
      "|           Portugal|          12|        0|\n",
      "|Republic of Ireland|           6|        1|\n",
      "|             Russia|           6|        0|\n",
      "|              Spain|          11|        0|\n",
      "|             Sweden|           7|        0|\n",
      "|            Ukraine|           5|        0|\n",
      "+-------------------+------------+---------+\n",
      "\n"
     ]
    }
   ],
   "source": [
    "#Step 8. Sort the teams by Red Cards, then to Yellow Cards\n",
    "discipline_df.sort(col(\"Red Cards\"), col(\"Yellow Cards\"))\n",
    "discipline_df.show()"
   ]
  },
  {
   "cell_type": "code",
   "execution_count": 98,
   "id": "e4b3186b-8def-41c0-9fcc-726a27485116",
   "metadata": {},
   "outputs": [
    {
     "name": "stdout",
     "output_type": "stream",
     "text": [
      "+----+\n",
      "|mean|\n",
      "+----+\n",
      "| 7.0|\n",
      "+----+\n",
      "\n"
     ]
    }
   ],
   "source": [
    "#Step 9. Calculate the mean Yellow Cards given per Team\n",
    "discipline_df.select(round(mean(\"Yellow Cards\")).alias(\"mean\")).show()\n"
   ]
  },
  {
   "cell_type": "code",
   "execution_count": 113,
   "id": "17636f1f-f76c-4b1c-86b8-401157ba0923",
   "metadata": {},
   "outputs": [
    {
     "name": "stdout",
     "output_type": "stream",
     "text": [
      "+-------+-----+\n",
      "|   Team|Goals|\n",
      "+-------+-----+\n",
      "|Germany|   10|\n",
      "|  Spain|   12|\n",
      "+-------+-----+\n",
      "\n"
     ]
    }
   ],
   "source": [
    "#Step 10. Filter teams that scored more than 6 goals\n",
    "filtered_df = df.filter(col(\"Goals\")>6)\n",
    "filtered_df.select(col(\"Team\"), col(\"Goals\")).show()"
   ]
  },
  {
   "cell_type": "code",
   "execution_count": 115,
   "id": "e7b85807-d513-4797-97c8-3b4a2e5984e1",
   "metadata": {},
   "outputs": [
    {
     "name": "stdout",
     "output_type": "stream",
     "text": [
      "+-------+\n",
      "|   Team|\n",
      "+-------+\n",
      "|Germany|\n",
      "| Greece|\n",
      "+-------+\n",
      "\n"
     ]
    }
   ],
   "source": [
    "#Step 11. Select the teams that start with G\n",
    "df_filtered_G = df.filter(col(\"Team\").rlike(\"^G\"))\n",
    "df_filtered_G.select(\"Team\").show()"
   ]
  },
  {
   "cell_type": "code",
   "execution_count": 193,
   "id": "5febc43d-869a-4a24-8416-98e69ffeb994",
   "metadata": {},
   "outputs": [
    {
     "name": "stdout",
     "output_type": "stream",
     "text": [
      "+-------------------+-----+---------------+----------------+-----------------+----------------+--------------------------+\n",
      "|               Team|Goals|Shots on target|Shots off target|Shooting Accuracy|% Goals-to-shots|Total shots (inc. Blocked)|\n",
      "+-------------------+-----+---------------+----------------+-----------------+----------------+--------------------------+\n",
      "|            Croatia|    4|             13|              12|            51.9%|           16.0%|                        32|\n",
      "|     Czech Republic|    4|             13|              18|            41.9%|           12.9%|                        39|\n",
      "|            Denmark|    4|             10|              10|            50.0%|           20.0%|                        27|\n",
      "|            England|    5|             11|              18|            50.0%|           17.2%|                        40|\n",
      "|             France|    3|             22|              24|            37.9%|            6.5%|                        65|\n",
      "|            Germany|   10|             32|              32|            47.8%|           15.6%|                        80|\n",
      "|             Greece|    5|              8|              18|            30.7%|           19.2%|                        32|\n",
      "|              Italy|    6|             34|              45|            43.0%|            7.5%|                       110|\n",
      "|        Netherlands|    2|             12|              36|            25.0%|            4.1%|                        60|\n",
      "|             Poland|    2|             15|              23|            39.4%|            5.2%|                        48|\n",
      "|           Portugal|    6|             22|              42|            34.3%|            9.3%|                        82|\n",
      "|Republic of Ireland|    1|              7|              12|            36.8%|            5.2%|                        28|\n",
      "|             Russia|    5|              9|              31|            22.5%|           12.5%|                        59|\n",
      "|              Spain|   12|             42|              33|            55.9%|           16.0%|                       100|\n",
      "|             Sweden|    5|             17|              19|            47.2%|           13.8%|                        39|\n",
      "|            Ukraine|    2|              7|              26|            21.2%|            6.0%|                        38|\n",
      "+-------------------+-----+---------------+----------------+-----------------+----------------+--------------------------+\n",
      "\n"
     ]
    }
   ],
   "source": [
    "#Step 12. Select the first 7 columns\n",
    "columns = []\n",
    "for field in df.schema:\n",
    "    columns.append(field.name)\n",
    "\n",
    "df.selectExpr([f\"`{c}`\" for c in columns[:7]]).show()"
   ]
  },
  {
   "cell_type": "code",
   "execution_count": 198,
   "id": "595ee3ea-6759-414f-99f0-81ec5dd5c2b7",
   "metadata": {},
   "outputs": [
    {
     "name": "stdout",
     "output_type": "stream",
     "text": [
      "+-------------------+-----+---------------+----------------+-----------------+----------------+--------------------------+------------+-------------+--------------------+------------+------+----------------+----------------+-------+-------+--------+-------------+-------+----------+-------------+-------------------+------------+------+--------------+----------+--------------------+---------+--------------+--------+------------+---------+\n",
      "|               Team|Goals|Shots on target|Shots off target|Shooting Accuracy|% Goals-to-shots|Total shots (inc. Blocked)|Hit Woodwork|Penalty goals|Penalties not scored|Headed goals|Passes|Passes completed|Passing Accuracy|Touches|Crosses|Dribbles|Corners Taken|Tackles|Clearances|Interceptions|Clearances off line|Clean Sheets|Blocks|Goals conceded|Saves made|Saves-to-shots ratio|Fouls Won|Fouls Conceded|Offsides|Yellow Cards|Red Cards|\n",
      "+-------------------+-----+---------------+----------------+-----------------+----------------+--------------------------+------------+-------------+--------------------+------------+------+----------------+----------------+-------+-------+--------+-------------+-------+----------+-------------+-------------------+------------+------+--------------+----------+--------------------+---------+--------------+--------+------------+---------+\n",
      "|            Croatia|    4|             13|              12|            51.9%|           16.0%|                        32|           0|            0|                   0|           2|  1076|             828|           76.9%|   1706|     60|      42|           14|     49|        83|           56|               NULL|           0|    10|             3|        13|               81.3%|       41|            62|       2|           9|        0|\n",
      "|     Czech Republic|    4|             13|              18|            41.9%|           12.9%|                        39|           0|            0|                   0|           0|  1565|            1223|           78.1%|   2358|     46|      68|           21|     62|        98|           37|                  2|           1|    10|             6|         9|               60.1%|       53|            73|       8|           7|        0|\n",
      "|            Denmark|    4|             10|              10|            50.0%|           20.0%|                        27|           1|            0|                   0|           3|  1298|            1082|           83.3%|   1873|     43|      32|           16|     40|        61|           59|                  0|           1|    10|             5|        10|               66.7%|       25|            38|       8|           4|        0|\n",
      "|            England|    5|             11|              18|            50.0%|           17.2%|                        40|           0|            0|                   0|           3|  1488|            1200|           80.6%|   2440|     58|      60|           16|     86|       106|           72|                  1|           2|    29|             3|        22|               88.1%|       43|            45|       6|           5|        0|\n",
      "|             France|    3|             22|              24|            37.9%|            6.5%|                        65|           1|            0|                   0|           0|  2066|            1803|           87.2%|   2909|     55|      76|           28|     71|        76|           58|                  0|           1|     7|             5|         6|               54.6%|       36|            51|       5|           6|        0|\n",
      "|            Germany|   10|             32|              32|            47.8%|           15.6%|                        80|           2|            1|                   0|           2|  2774|            2427|           87.4%|   3761|    101|      60|           35|     91|        73|           69|                  0|           1|    11|             6|        10|               62.6%|       63|            49|      12|           4|        0|\n",
      "|             Greece|    5|              8|              18|            30.7%|           19.2%|                        32|           1|            1|                   1|           0|  1187|             911|           76.7%|   2016|     52|      53|           10|     65|       123|           87|                  0|           1|    23|             7|        13|               65.1%|       67|            48|      12|           9|        1|\n",
      "|              Italy|    6|             34|              45|            43.0%|            7.5%|                       110|           2|            0|                   0|           2|  3016|            2531|           83.9%|   4363|     75|      75|           30|     98|       137|          136|                  1|           2|    18|             7|        20|               74.1%|      101|            89|      16|          16|        0|\n",
      "|        Netherlands|    2|             12|              36|            25.0%|            4.1%|                        60|           2|            0|                   0|           0|  1556|            1381|           88.7%|   2163|     50|      49|           22|     34|        41|           41|                  0|           0|     9|             5|        12|               70.6%|       35|            30|       3|           5|        0|\n",
      "|             Poland|    2|             15|              23|            39.4%|            5.2%|                        48|           0|            0|                   0|           1|  1059|             852|           80.4%|   1724|     55|      39|           14|     67|        87|           62|                  0|           0|     8|             3|         6|               66.7%|       48|            56|       3|           7|        1|\n",
      "|           Portugal|    6|             22|              42|            34.3%|            9.3%|                        82|           6|            0|                   0|           2|  1891|            1461|           77.2%|   2958|     91|      64|           41|     78|        92|           86|                  0|           2|    11|             4|        10|               71.5%|       73|            90|      10|          12|        0|\n",
      "|Republic of Ireland|    1|              7|              12|            36.8%|            5.2%|                        28|           0|            0|                   0|           1|   851|             606|           71.2%|   1433|     43|      18|            8|     45|        78|           43|                  1|           0|    23|             9|        17|               65.4%|       43|            51|      11|           6|        1|\n",
      "|             Russia|    5|              9|              31|            22.5%|           12.5%|                        59|           2|            0|                   0|           1|  1602|            1345|           83.9%|   2278|     40|      40|           21|     65|        74|           58|                  0|           0|     8|             3|        10|               77.0%|       34|            43|       4|           6|        0|\n",
      "|              Spain|   12|             42|              33|            55.9%|           16.0%|                       100|           0|            1|                   0|           2|  4317|            3820|           88.4%|   5585|     69|     106|           44|    122|       102|           79|                  0|           5|     8|             1|        15|               93.8%|      102|            83|      19|          11|        0|\n",
      "|             Sweden|    5|             17|              19|            47.2%|           13.8%|                        39|           3|            0|                   0|           1|  1192|             965|           80.9%|   1806|     44|      29|            7|     56|        54|           45|                  0|           1|    12|             5|         8|               61.6%|       35|            51|       7|           7|        0|\n",
      "|            Ukraine|    2|              7|              26|            21.2%|            6.0%|                        38|           0|            0|                   0|           2|  1276|            1043|           81.7%|   1894|     33|      26|           18|     65|        97|           29|                  0|           0|     4|             4|        13|               76.5%|       48|            31|       4|           5|        0|\n",
      "+-------------------+-----+---------------+----------------+-----------------+----------------+--------------------------+------------+-------------+--------------------+------------+------+----------------+----------------+-------+-------+--------+-------------+-------+----------+-------------+-------------------+------------+------+--------------+----------+--------------------+---------+--------------+--------+------------+---------+\n",
      "\n"
     ]
    }
   ],
   "source": [
    "#Step 13. Select all columns except the last 3.\n",
    "df.selectExpr([f\"`{c}`\" for c in columns[:len(columns)-3]]).show()"
   ]
  },
  {
   "cell_type": "code",
   "execution_count": 205,
   "id": "8720812d-0ec8-46bf-bea9-1d005cbed8fa",
   "metadata": {},
   "outputs": [
    {
     "name": "stdout",
     "output_type": "stream",
     "text": [
      "+-------+-----------------+\n",
      "|   Team|Shooting Accuracy|\n",
      "+-------+-----------------+\n",
      "|England|            50.0%|\n",
      "|  Italy|            43.0%|\n",
      "| Russia|            22.5%|\n",
      "+-------+-----------------+\n",
      "\n"
     ]
    }
   ],
   "source": [
    "#Step 14. Present only the Shooting Accuracy from England, Italy and Russia\n",
    "li=[\"England\",\"Italy\",\"Russia\"]\n",
    "df.select(col(\"Team\"),col(\"Shooting Accuracy\")).filter(col(\"Team\").isin(li)).show()\n"
   ]
  },
  {
   "cell_type": "code",
   "execution_count": null,
   "id": "0b46c66b-d752-4005-85b0-2c8d7b1ec1b4",
   "metadata": {},
   "outputs": [],
   "source": []
  }
 ],
 "metadata": {
  "kernelspec": {
   "display_name": "Python 3 (ipykernel)",
   "language": "python",
   "name": "python3"
  },
  "language_info": {
   "codemirror_mode": {
    "name": "ipython",
    "version": 3
   },
   "file_extension": ".py",
   "mimetype": "text/x-python",
   "name": "python",
   "nbconvert_exporter": "python",
   "pygments_lexer": "ipython3",
   "version": "3.9.19"
  }
 },
 "nbformat": 4,
 "nbformat_minor": 5
}
